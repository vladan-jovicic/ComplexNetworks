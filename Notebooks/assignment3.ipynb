{
 "cells": [
  {
   "cell_type": "markdown",
   "metadata": {
    "collapsed": true
   },
   "source": [
    "# Assignment 3\n",
    "\n",
    "## Problem 1\n",
    "\n",
    "The goal of this exercise is to compare clustering coefficient and the length of shorthest path of Watts-Strogatz model with Erdos-Renyi model. To do so, we will create multiple instances of Watts-Strogatz model with $N=100$ vertices and different values for $k$. Similarly, we will generate multiple instances of ER model with $N=100$ and $m = \\frac{k\\cdot N}{2}$.\n",
    "\n"
   ]
  },
  {
   "cell_type": "markdown",
   "metadata": {},
   "source": [
    "Firstly, we will import the necessary packages."
   ]
  },
  {
   "cell_type": "code",
   "execution_count": 11,
   "metadata": {},
   "outputs": [],
   "source": [
    "import sys, os\n",
    "sys.path.insert(0, '../src/')\n",
    "import algorithms.watts_strogatz as ws\n",
    "import algorithms.erdos_renyi as er\n",
    "import numpy as np\n",
    "import matplotlib.pyplot as plt"
   ]
  },
  {
   "cell_type": "code",
   "execution_count": 9,
   "metadata": {},
   "outputs": [],
   "source": [
    "N, beta = 100, 0.5\n",
    "K = np.arange(30, 80, 2)\n",
    "er_graphs = []\n",
    "ws_graphs = []\n",
    "for k in K:\n",
    "    m = k*N // 2\n",
    "    ws_graphs.append(er.er_nm(N, m))\n",
    "    er_graphs.append(ws.watts_strogatz(N, k, beta))"
   ]
  },
  {
   "cell_type": "markdown",
   "metadata": {},
   "source": [
    "Now we will make two different plots. In one, we will compare the diameters of the above generated graphs and in the second one, we will compare clustering coefficient."
   ]
  },
  {
   "cell_type": "code",
   "execution_count": 23,
   "metadata": {},
   "outputs": [
    {
     "name": "stdout",
     "output_type": "stream",
     "text": [
      "(1500, 1500)\n",
      "(1600, 1600)\n",
      "(1700, 1700)\n",
      "(1800, 1800)\n",
      "(1900, 1900)\n",
      "(2000, 2000)\n",
      "(2100, 2100)\n",
      "(2200, 2200)\n",
      "(2300, 2300)\n",
      "(2400, 2400)\n",
      "(2500, 2500)\n",
      "(2600, 2600)\n",
      "(2700, 2700)\n",
      "(2800, 2800)\n",
      "(2900, 2900)\n",
      "(3000, 3000)\n",
      "(3100, 3100)\n",
      "(3200, 3200)\n",
      "(3300, 3300)\n",
      "(3400, 3400)\n",
      "(3500, 3500)\n",
      "(3600, 3600)\n",
      "(3700, 3700)\n",
      "(3800, 3800)\n",
      "(3900, 3900)\n"
     ]
    }
   ],
   "source": [
    "for g1, g2 in zip(ws_graphs, er_graphs):\n",
    "    print(g1.number_of_edges(), g2.number_of_edges())"
   ]
  },
  {
   "cell_type": "code",
   "execution_count": 24,
   "metadata": {},
   "outputs": [],
   "source": [
    "# on x axis, plot k\n",
    "# on y axis, plot the diameter\n",
    "ws_diam = [g.diameter() for g in ws_graphs]\n",
    "er_diam = [g.diameter() for g in er_graphs]"
   ]
  },
  {
   "cell_type": "code",
   "execution_count": 25,
   "metadata": {},
   "outputs": [
    {
     "name": "stdout",
     "output_type": "stream",
     "text": [
      "[inf, inf, inf, inf, inf, inf, inf, inf, inf, inf, inf, inf, inf, inf, inf, inf, inf, inf, inf, inf, inf, inf, inf, inf, inf]\n",
      "[4, 4, 4, 4, 3, 3, 3, 3, 3, 3, 3, 3, 3, 3, 3, 2, 2, 2, 2, 2, 2, 2, 2, 2, 2]\n"
     ]
    }
   ],
   "source": [
    "print(ws_diam)\n",
    "print(er_diam)"
   ]
  },
  {
   "cell_type": "code",
   "execution_count": 26,
   "metadata": {},
   "outputs": [
    {
     "data": {
      "image/png": "[encoded data removed]",
      "text/plain": [
       "<matplotlib.figure.Figure at 0x7f267c003290>"
      ]
     },
     "metadata": {},
     "output_type": "display_data"
    }
   ],
   "source": [
    "fig = plt.figure(figsize = (15, 8))\n",
    "plt.subplot(211)\n",
    "plt.plot(K, er_diam, 'b')\n",
    "plt.subplot(212)\n",
    "plt.plot(K, ws_diam, 'r-')\n",
    "\n",
    "plt.show()"
   ]
  },
  {
   "cell_type": "code",
   "execution_count": null,
   "metadata": {},
   "outputs": [],
   "source": []
  }
 ],
 "metadata": {
  "kernelspec": {
   "display_name": "Python 2",
   "language": "python",
   "name": "python2"
  },
  "language_info": {
   "codemirror_mode": {
    "name": "ipython",
    "version": 2
   },
   "file_extension": ".py",
   "mimetype": "text/x-python",
   "name": "python",
   "nbconvert_exporter": "python",
   "pygments_lexer": "ipython2",
   "version": "2.7.13"
  }
 },
 "nbformat": 4,
 "nbformat_minor": 1
}
