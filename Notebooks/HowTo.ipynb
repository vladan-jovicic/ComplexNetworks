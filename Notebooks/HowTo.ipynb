{
 "cells": [
  {
   "cell_type": "markdown",
   "metadata": {},
   "source": [
    "How to use implemented algorithms\n",
    "=================="
   ]
  },
  {
   "cell_type": "markdown",
   "metadata": {},
   "source": [
    "Overview\n",
    "----------\n",
    "The project has the following structure:\n",
    "\n",
    "- *doc* contains documentation of the project \n",
    "- *src* contains all the source code\n",
    "    - *algorithms* contains different algorithms\n",
    "    - *test* contains modules for testing with unittest\n",
    "- *test_data* contains test data\n",
    "- *tools* different tools (scripts) used for building and testing\n",
    "- *Notebooks* contains ipython notebooks which demonstrate usage\n"
   ]
  },
  {
   "cell_type": "markdown",
   "metadata": {},
   "source": [
    "Importing *Graph* module\n",
    "---------------------------\n",
    "\n",
    "Firstly, we will import the *Graph* module. We are in the folder *Notebooks* so, we need to append the path."
   ]
  },
  {
   "cell_type": "code",
   "execution_count": 2,
   "metadata": {},
   "outputs": [
    {
     "data": {
      "text/plain": [
       "<module 'graph' from '../src/graph.pyc'>"
      ]
     },
     "execution_count": 2,
     "metadata": {},
     "output_type": "execute_result"
    }
   ],
   "source": [
    "import sys, os\n",
    "# sys.path.append(os.path.dirname(os.path.dirname(os.path.abspath('../src/'))))\n",
    "sys.path.append('../src/')\n",
    "import graph\n",
    "reload(graph)"
   ]
  },
  {
   "cell_type": "markdown",
   "metadata": {},
   "source": [
    "We will check if the library is imported correctly by computing a few parameters of empty graph."
   ]
  },
  {
   "cell_type": "code",
   "execution_count": 3,
   "metadata": {},
   "outputs": [
    {
     "name": "stdout",
     "output_type": "stream",
     "text": [
      "The diameter of empty graph: 0\n",
      "The global cluster coeff of empty graph is: 0.000000\n"
     ]
    }
   ],
   "source": [
    "emptyG = graph.Graph()\n",
    "diam = emptyG.diameter()\n",
    "gcc = emptyG.global_clustering_coefficient()\n",
    "print(\"The diameter of empty graph: %d\" % diam)\n",
    "print(\"The global cluster coeff of empty graph is: %f\" % gcc)"
   ]
  },
  {
   "cell_type": "markdown",
   "metadata": {},
   "source": [
    "Reading graph from a file\n",
    "-----------------------------\n",
    "\n",
    "Now we will show how to read graph from a file and compute requested parameters."
   ]
  },
  {
   "cell_type": "code",
   "execution_count": 4,
   "metadata": {},
   "outputs": [
    {
     "name": "stdout",
     "output_type": "stream",
     "text": [
      "33, 78\n",
      "1000, 3989\n",
      "100, 960\n"
     ]
    }
   ],
   "source": [
    "path = '../test_data/'\n",
    "txt = \".txt\"\n",
    "filenames = ['zachary_connected', 'graph_1000n_4000m', 'graph_100n_1000m']\n",
    "\n",
    "graphs = [] # store all three graph objects in a list\n",
    "for i, g_name in enumerate(filenames):\n",
    "    g = graph.Graph({})\n",
    "    g.read_from_file(filename=path+g_name+txt)\n",
    "    graphs.append(g)\n",
    "    \n",
    "    \n",
    "results = []\n",
    "params = [\"vertices\", \"edges\", \"density\", \"diameter\", \"clustering coef\"]\n",
    "\n",
    "print(\"%d, %d\" % (graphs[0].number_of_vertices(), graphs[0].number_of_edges()))\n",
    "print(\"%d, %d\" % (graphs[1].number_of_vertices(), graphs[1].number_of_edges()))\n",
    "print(\"%d, %d\" % (graphs[2].number_of_vertices(), graphs[2].number_of_edges()))\n"
   ]
  },
  {
   "cell_type": "markdown",
   "metadata": {},
   "source": [
    "Computing requested parameters\n",
    "-----------------------------------\n",
    "We assume that the provided graphs are simple and thus multi edges in the files are ignored.\n",
    "Since one of the graphs has 1000 vertices and 3989 edges, computation of diameter will take some time."
   ]
  },
  {
   "cell_type": "code",
   "execution_count": 5,
   "metadata": {},
   "outputs": [],
   "source": [
    "# compute parameters\n",
    "for i, G in enumerate(graphs):\n",
    "    temp_results = [G.number_of_vertices(), G.number_of_edges(),\n",
    "                    G.density(), G.diameter(),\n",
    "                    G.global_clustering_coefficient()\n",
    "                   ]\n",
    "    results.append(temp_results)"
   ]
  },
  {
   "cell_type": "markdown",
   "metadata": {},
   "source": [
    "Now we will present the results in a table. Notice that package *ipy_table* is required."
   ]
  },
  {
   "cell_type": "code",
   "execution_count": 6,
   "metadata": {},
   "outputs": [
    {
     "data": {
      "text/html": [
       "<table border=\"1\" cellpadding=\"3\" cellspacing=\"0\"  style=\"border:black; border-collapse:collapse;\"><tr><td  style=\"background-color:hsla(225, 80%, 94%, 1);border-left: 1px solid;border-right: 1px solid;border-top: 1px solid;border-bottom: 1px solid;width:100px;\"><b>dataset</b></td><td  style=\"border-left: 1px solid;border-right: 1px solid;border-top: 1px solid;border-bottom: 1px solid;width:100px;\">vertices</td><td  style=\"border-left: 1px solid;border-right: 1px solid;border-top: 1px solid;border-bottom: 1px solid;\">edges</td><td  style=\"border-left: 1px solid;border-right: 1px solid;border-top: 1px solid;border-bottom: 1px solid;\">density</td><td  style=\"border-left: 1px solid;border-right: 1px solid;border-top: 1px solid;border-bottom: 1px solid;\">diameter</td><td  style=\"border-left: 1px solid;border-right: 1px solid;border-top: 1px solid;border-bottom: 1px solid;\">clustering&nbsp;coef</td></tr><tr><td  style=\"background-color:hsla(225, 80%, 94%, 1);border-left: 1px solid;border-right: 1px solid;border-top: 1px solid;border-bottom: 1px solid;width:100px;\"><b>zachary_connected</b></td><td  style=\"border-left: 1px solid;border-right: 1px solid;border-top: 1px solid;border-bottom: 1px solid;width:100px;\">33</td><td  style=\"border-left: 1px solid;border-right: 1px solid;border-top: 1px solid;border-bottom: 1px solid;\">78</td><td  style=\"border-left: 1px solid;border-right: 1px solid;border-top: 1px solid;border-bottom: 1px solid;\">0.1477</td><td  style=\"border-left: 1px solid;border-right: 1px solid;border-top: 1px solid;border-bottom: 1px solid;\">5</td><td  style=\"border-left: 1px solid;border-right: 1px solid;border-top: 1px solid;border-bottom: 1px solid;\">0.1546</td></tr><tr><td  style=\"background-color:hsla(225, 80%, 94%, 1);border-left: 1px solid;border-right: 1px solid;border-top: 1px solid;border-bottom: 1px solid;width:100px;\"><b>graph_1000n_4000m</b></td><td  style=\"border-left: 1px solid;border-right: 1px solid;border-top: 1px solid;border-bottom: 1px solid;width:100px;\">1000</td><td  style=\"border-left: 1px solid;border-right: 1px solid;border-top: 1px solid;border-bottom: 1px solid;\">3989</td><td  style=\"border-left: 1px solid;border-right: 1px solid;border-top: 1px solid;border-bottom: 1px solid;\">0.0080</td><td  style=\"border-left: 1px solid;border-right: 1px solid;border-top: 1px solid;border-bottom: 1px solid;\">6</td><td  style=\"border-left: 1px solid;border-right: 1px solid;border-top: 1px solid;border-bottom: 1px solid;\">0.0070</td></tr><tr><td  style=\"background-color:hsla(225, 80%, 94%, 1);border-left: 1px solid;border-right: 1px solid;border-top: 1px solid;border-bottom: 1px solid;width:100px;\"><b>graph_100n_1000m</b></td><td  style=\"border-left: 1px solid;border-right: 1px solid;border-top: 1px solid;border-bottom: 1px solid;width:100px;\">100</td><td  style=\"border-left: 1px solid;border-right: 1px solid;border-top: 1px solid;border-bottom: 1px solid;\">960</td><td  style=\"border-left: 1px solid;border-right: 1px solid;border-top: 1px solid;border-bottom: 1px solid;\">0.1939</td><td  style=\"border-left: 1px solid;border-right: 1px solid;border-top: 1px solid;border-bottom: 1px solid;\">3</td><td  style=\"border-left: 1px solid;border-right: 1px solid;border-top: 1px solid;border-bottom: 1px solid;\">0.1928</td></tr></table>"
      ],
      "text/plain": [
       "<ipy_table.ipy_table.IpyTable at 0x7f7584209b90>"
      ]
     },
     "execution_count": 6,
     "metadata": {},
     "output_type": "execute_result"
    }
   ],
   "source": [
    "from ipy_table import *\n",
    "\n",
    "\n",
    "dictList = []\n",
    "data_str = \"dataset\"\n",
    "\n",
    "# convert the dictionary to a list\n",
    "for i in range(len(results)+1):\n",
    "    if i == 0:\n",
    "        dictList.append([data_str] + [p for p in params])\n",
    "    else:\n",
    "        dictList.append([filenames[i-1]] + results[i-1])\n",
    "    \n",
    "\n",
    "# create table with make_table\n",
    "make_table(dictList)\n",
    "\n",
    "set_column_style(0, width='100', bold=True, color='hsla(225, 80%, 94%, 1)')\n",
    "set_column_style(1, width='100')\n",
    "\n",
    "# render the table\n",
    "render()\n"
   ]
  },
  {
   "cell_type": "code",
   "execution_count": null,
   "metadata": {},
   "outputs": [],
   "source": []
  }
 ],
 "metadata": {
  "kernelspec": {
   "display_name": "Python 2",
   "language": "python",
   "name": "python2"
  },
  "language_info": {
   "codemirror_mode": {
    "name": "ipython",
    "version": 2
   },
   "file_extension": ".py",
   "mimetype": "text/x-python",
   "name": "python",
   "nbconvert_exporter": "python",
   "pygments_lexer": "ipython2",
   "version": "2.7.13"
  }
 },
 "nbformat": 4,
 "nbformat_minor": 1
}
